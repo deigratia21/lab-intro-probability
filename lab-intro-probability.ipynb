{
 "cells": [
  {
   "cell_type": "markdown",
   "metadata": {},
   "source": [
    "# Lab | Intro to Probability"
   ]
  },
  {
   "cell_type": "markdown",
   "metadata": {},
   "source": [
    "**Objective**\n",
    "\n",
    "Welcome to this Intro to Probability lab, where we explore decision-making scenarios through the lens of probability and strategic analysis. In the business world, making informed decisions is crucial, especially when faced with uncertainties. This lab focuses on scenarios where probabilistic outcomes play a significant role in shaping strategies and outcomes. Students will engage in exercises that require assessing and choosing optimal paths based on data-driven insights. The goal is to enhance your skills by applying probability concepts to solve real-world problems."
   ]
  },
  {
   "cell_type": "markdown",
   "metadata": {},
   "source": [
    "**Challenge 1**"
   ]
  },
  {
   "cell_type": "markdown",
   "metadata": {},
   "source": [
    "#### Ironhack Airlines \n",
    "\n",
    "Often Airlines sell more tickets than they have seats available, this is called overbooking. Consider the following:\n",
    "- A plane has 450 seats. \n",
    "- Based on historical data we conclude that each individual passenger has a 3% chance of missing it's flight. \n",
    "\n",
    "If the Ironhack Airlines routinely sells 460 tickets, what is the chance that they have a seats for all passenger?"
   ]
  },
  {
   "cell_type": "code",
   "execution_count": 1,
   "metadata": {},
   "outputs": [
    {
     "name": "stdout",
     "output_type": "stream",
     "text": [
      "Probability that 450 or fewer passengers show up: 0.8845\n"
     ]
    }
   ],
   "source": [
    "from scipy.stats import binom\n",
    "\n",
    "# Parameters\n",
    "n = 460       # number of tickets sold\n",
    "p = 0.97      # probability that a passenger shows up\n",
    "\n",
    "# Calculate the probability that 450 or fewer passengers show up\n",
    "prob = binom.cdf(450, n, p)\n",
    "\n",
    "print(f\"Probability that 450 or fewer passengers show up: {prob:.4f}\")"
   ]
  },
  {
   "cell_type": "markdown",
   "metadata": {},
   "source": [
    "**Challenge 2**"
   ]
  },
  {
   "cell_type": "markdown",
   "metadata": {},
   "source": [
    "#### Ironhack Call Center "
   ]
  },
  {
   "cell_type": "markdown",
   "metadata": {},
   "source": [
    "Suppose a customer service representative at a call center is handling customer complaints. Consider the following:\n",
    "- The probability of successfully resolving a customer complaint on the first attempt is 0.3. \n",
    "\n",
    "\n",
    "What is the probability that the representative needs to make at least three attempts before successfully resolving a customer complaint?"
   ]
  },
  {
   "cell_type": "code",
   "execution_count": 3,
   "metadata": {},
   "outputs": [
    {
     "name": "stdout",
     "output_type": "stream",
     "text": [
      "Probability that it takes at least 3 attempts: 0.4900\n"
     ]
    }
   ],
   "source": [
    "from scipy.stats import geom\n",
    "\n",
    "# Parameter\n",
    "p = 0.3  # probability of success\n",
    "\n",
    "# P(X ≥ 3) = 1 - P(X ≤ 2)\n",
    "prob = 1 - geom.cdf(2, p)\n",
    "\n",
    "print(f\"Probability that it takes at least 3 attempts: {prob:.4f}\")"
   ]
  },
  {
   "cell_type": "markdown",
   "metadata": {},
   "source": [
    "**Challenge 3**"
   ]
  },
  {
   "cell_type": "markdown",
   "metadata": {},
   "source": [
    "#### Ironhack Website"
   ]
  },
  {
   "cell_type": "markdown",
   "metadata": {},
   "source": [
    "Consider a scenario related to Ironhack website traffic. Where:\n",
    "- our website takes on average 500 visits per hour.\n",
    "- the website's server is designed to handle up to 550 vists per hour.\n",
    "\n",
    "\n",
    "What is the probability of the website server being overwhelmed?"
   ]
  },
  {
   "cell_type": "code",
   "execution_count": 5,
   "metadata": {},
   "outputs": [
    {
     "name": "stdout",
     "output_type": "stream",
     "text": [
      "Probability server is overwhelmed in an hour: 0.0129\n"
     ]
    }
   ],
   "source": [
    "from scipy.stats import poisson\n",
    "\n",
    "# Parameter\n",
    "lambda_hour = 500\n",
    "\n",
    "# Hitung P(X > 550)\n",
    "prob_overwhelmed = 1 - poisson.cdf(550, lambda_hour)\n",
    "\n",
    "print(f\"Probability server is overwhelmed in an hour: {prob_overwhelmed:.4f}\")"
   ]
  },
  {
   "cell_type": "markdown",
   "metadata": {},
   "source": [
    "What is the probability of being overwhelmed at some point during a day? (consider 24hours)"
   ]
  },
  {
   "cell_type": "code",
   "execution_count": 7,
   "metadata": {},
   "outputs": [
    {
     "name": "stdout",
     "output_type": "stream",
     "text": [
      "Probability of being overwhelmed at least once in 24 hours: 0.2677\n"
     ]
    }
   ],
   "source": [
    "# Gunakan hasil dari sebelumnya\n",
    "prob_not_overwhelmed_hourly = 1 - prob_overwhelmed\n",
    "\n",
    "# Peluang tidak kewalahan selama 24 jam berturut-turut\n",
    "prob_not_overwhelmed_daily = prob_not_overwhelmed_hourly ** 24\n",
    "\n",
    "# Peluang setidaknya sekali kewalahan dalam sehari\n",
    "prob_overwhelmed_daily = 1 - prob_not_overwhelmed_daily\n",
    "\n",
    "print(f\"Probability of being overwhelmed at least once in 24 hours: {prob_overwhelmed_daily:.4f}\")"
   ]
  },
  {
   "cell_type": "markdown",
   "metadata": {},
   "source": [
    "**Challenge 4**"
   ]
  },
  {
   "cell_type": "markdown",
   "metadata": {},
   "source": [
    "#### Ironhack Helpdesk"
   ]
  },
  {
   "cell_type": "markdown",
   "metadata": {},
   "source": [
    "Consider a scenario related to the time between arrivals of customers at a service desk.\n",
    "\n",
    "On average, a customers arrives every 10minutes.\n",
    "\n",
    "What is the probability that the next customer will arrive within the next 5 minutes?"
   ]
  },
  {
   "cell_type": "code",
   "execution_count": 9,
   "metadata": {},
   "outputs": [
    {
     "name": "stdout",
     "output_type": "stream",
     "text": [
      "Probability that next customer arrives within 5 minutes: 0.3935\n"
     ]
    }
   ],
   "source": [
    "from scipy.stats import expon\n",
    "\n",
    "# Parameter\n",
    "mu = 10  # rata-rata waktu kedatangan (menit)\n",
    "lambda_param = 1 / mu\n",
    "\n",
    "# P(X <= 5)\n",
    "prob_within_5min = expon.cdf(5, scale=1/lambda_param)\n",
    "\n",
    "print(f\"Probability that next customer arrives within 5 minutes: {prob_within_5min:.4f}\")"
   ]
  },
  {
   "cell_type": "markdown",
   "metadata": {},
   "source": [
    "If there is no customer for 15minutes, employees can that a 5minutes break.\n",
    "\n",
    "What is the probability an employee taking a break?"
   ]
  },
  {
   "cell_type": "code",
   "execution_count": 11,
   "metadata": {},
   "outputs": [
    {
     "name": "stdout",
     "output_type": "stream",
     "text": [
      "Probability that an employee gets a break (no customer for 15 min): 0.2231\n"
     ]
    }
   ],
   "source": [
    "# P(X >= 15)\n",
    "prob_break = 1 - expon.cdf(15, scale=1/lambda_param)\n",
    "\n",
    "print(f\"Probability that an employee gets a break (no customer for 15 min): {prob_break:.4f}\")"
   ]
  },
  {
   "cell_type": "markdown",
   "metadata": {},
   "source": [
    "**Challenge 5**"
   ]
  },
  {
   "cell_type": "markdown",
   "metadata": {},
   "source": [
    "The weights of a certain species of birds follow a normal distribution with a mean weight of 150 grams and a standard deviation of 10 grams. \n",
    "\n",
    "- If we randomly select a bird, what is the probability that its weight is between 140 and 160 grams?"
   ]
  },
  {
   "cell_type": "code",
   "execution_count": 13,
   "metadata": {},
   "outputs": [
    {
     "name": "stdout",
     "output_type": "stream",
     "text": [
      "Probability that bird weight is between 140 and 160 grams: 0.6827\n"
     ]
    }
   ],
   "source": [
    "from scipy.stats import norm\n",
    "\n",
    "# Parameter\n",
    "mu = 150      # mean\n",
    "sigma = 10    # standard deviation\n",
    "\n",
    "# Hitung P(140 <= X <= 160)\n",
    "prob_bird = norm.cdf(160, mu, sigma) - norm.cdf(140, mu, sigma)\n",
    "\n",
    "print(f\"Probability that bird weight is between 140 and 160 grams: {prob_bird:.4f}\")"
   ]
  },
  {
   "cell_type": "markdown",
   "metadata": {},
   "source": [
    "**Challenge 6**"
   ]
  },
  {
   "cell_type": "markdown",
   "metadata": {},
   "source": [
    "If the lifetime (in hours) of a certain electronic component follows an exponential distribution with a mean lifetime of 50 hours, what is the probability that the component fails within the first 30 hours?"
   ]
  },
  {
   "cell_type": "code",
   "execution_count": 15,
   "metadata": {},
   "outputs": [
    {
     "name": "stdout",
     "output_type": "stream",
     "text": [
      "Probability that component fails within 30 hours: 0.4512\n"
     ]
    }
   ],
   "source": [
    "from scipy.stats import expon\n",
    "\n",
    "# Parameter\n",
    "mean_lifetime = 50\n",
    "lambda_param = 1 / mean_lifetime\n",
    "\n",
    "# Hitung P(X <= 30)\n",
    "prob_failure_30 = expon.cdf(30, scale=1/lambda_param)\n",
    "\n",
    "print(f\"Probability that component fails within 30 hours: {prob_failure_30:.4f}\")"
   ]
  },
  {
   "cell_type": "code",
   "execution_count": null,
   "metadata": {},
   "outputs": [],
   "source": []
  }
 ],
 "metadata": {
  "kernelspec": {
   "display_name": "Python [conda env:base] *",
   "language": "python",
   "name": "conda-base-py"
  },
  "language_info": {
   "codemirror_mode": {
    "name": "ipython",
    "version": 3
   },
   "file_extension": ".py",
   "mimetype": "text/x-python",
   "name": "python",
   "nbconvert_exporter": "python",
   "pygments_lexer": "ipython3",
   "version": "3.12.7"
  }
 },
 "nbformat": 4,
 "nbformat_minor": 4
}
